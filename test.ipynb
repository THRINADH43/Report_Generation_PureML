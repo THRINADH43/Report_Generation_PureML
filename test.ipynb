{
 "cells": [
  {
   "cell_type": "code",
   "execution_count": 1,
   "metadata": {},
   "outputs": [],
   "source": [
    "import pureml_evaluate"
   ]
  },
  {
   "cell_type": "code",
   "execution_count": 2,
   "metadata": {},
   "outputs": [],
   "source": [
    "from pureml_evaluate.evaluators.evaluator import Evaluator"
   ]
  },
  {
   "cell_type": "code",
   "execution_count": 3,
   "metadata": {},
   "outputs": [],
   "source": [
    "import joblib\n",
    "y_true = joblib.load(\"y_test.pkl\").values\n",
    "y_pred = joblib.load(\"y_pred.pkl\")\n",
    "sensitive_features = joblib.load(\"sensitive_features.pkl\").to_numpy()"
   ]
  },
  {
   "cell_type": "code",
   "execution_count": 4,
   "metadata": {},
   "outputs": [],
   "source": [
    "# sensitive_features"
   ]
  },
  {
   "cell_type": "code",
   "execution_count": 23,
   "metadata": {},
   "outputs": [
    {
     "data": {
      "image/png": "[encoded data removed]",
      "text/plain": [
       "<Figure size 640x480 with 1 Axes>"
      ]
     },
     "metadata": {},
     "output_type": "display_data"
    },
    {
     "data": {
      "text/plain": [
       "{'complete': {'performance': {'accuracy': 0.7971428571428572,\n",
       "   'precision': 0.5270081164287713,\n",
       "   'recall': 0.8105897546276367,\n",
       "   'f1': 0.6387381275440978,\n",
       "   'confusion_matrix': [[0.7933227344992051, 0.2066772655007949],\n",
       "    [0.1894102453723633, 0.8105897546276367]]},\n",
       "  'fairness': {'balanced_accuracy': 0.801956244563421,\n",
       "   'balanced_acc_error': 0.00909578148026159,\n",
       "   'selection_rate': 0.3402857142857143,\n",
       "   'false_positive_rate': 0.2066772655007949,\n",
       "   'false_positive_error': 0.0087766822602419,\n",
       "   'false_negative_rate': 0.1894102453723633,\n",
       "   'false_negative_error': 0.015934328082772554,\n",
       "   'true_positive_rate': 0.8105897546276367,\n",
       "   'true_negative_rate': 0.7933227344992051,\n",
       "   'demographic_parity_difference': 0.058073351745144164,\n",
       "   'demographic_parity_ratio': 0.8401720362840163,\n",
       "   'equalized_odds_difference': 0.12304095990295033,\n",
       "   'equalized_odds_ratio': 0.5170472645574502}},\n",
       " 'subsets': {'female': {'performance': {'accuracy': 0.7492890995260664,\n",
       "    'precision': 0.4482608695652174,\n",
       "    'recall': 0.7642698295033358,\n",
       "    'f1': 0.5650863250205536,\n",
       "    'confusion_matrix': [[0.7452318811483638, 0.2547681188516362],\n",
       "     [0.2357301704966642, 0.7642698295033358]]},\n",
       "   'fairness': {'balanced_accuracy': 0.7547508553258497,\n",
       "    'balanced_acc_error': 0.01284020550193306,\n",
       "    'selection_rate': 0.36334913112164297,\n",
       "    'false_positive_rate': 0.2547681188516362,\n",
       "    'false_positive_error': 0.01210085490514792,\n",
       "    'false_negative_rate': 0.2357301704966642,\n",
       "    'false_negative_error': 0.022650669303401295,\n",
       "    'true_positive_rate': 0.7642698295033358,\n",
       "    'true_negative_rate': 0.7452318811483638,\n",
       "    'demographic_parity_difference': 0.0,\n",
       "    'demographic_parity_ratio': 1.0,\n",
       "    'equalized_odds_difference': 0.0,\n",
       "    'equalized_odds_ratio': 1.0}},\n",
       "  'male': {'performance': {'accuracy': 0.8697841726618705,\n",
       "    'precision': 0.6692851531814611,\n",
       "    'recall': 0.8747433264887063,\n",
       "    'f1': 0.7583444592790386,\n",
       "    'confusion_matrix': [[0.8682728410513142, 0.13172715894868586],\n",
       "     [0.12525667351129363, 0.8747433264887063]]},\n",
       "   'fairness': {'balanced_accuracy': 0.8715080837700102,\n",
       "    'balanced_acc_error': 0.011933454584385012,\n",
       "    'selection_rate': 0.3052757793764988,\n",
       "    'false_positive_rate': 0.13172715894868586,\n",
       "    'false_positive_error': 0.011725151341348909,\n",
       "    'false_negative_rate': 0.12525667351129363,\n",
       "    'false_negative_error': 0.020788222129195715,\n",
       "    'true_positive_rate': 0.8747433264887063,\n",
       "    'true_negative_rate': 0.8682728410513142,\n",
       "    'demographic_parity_difference': 0.0,\n",
       "    'demographic_parity_ratio': 1.0,\n",
       "    'equalized_odds_difference': 0.0,\n",
       "    'equalized_odds_ratio': 1.0}}}}"
      ]
     },
     "execution_count": 23,
     "metadata": {},
     "output_type": "execute_result"
    }
   ],
   "source": [
    "from pureml_evaluate.evaluators.evaluator import eval\n",
    "\n",
    "\n",
    "values = eval(y_true=y_true, \n",
    "              y_pred=y_pred, \n",
    "              sensitive_features=sensitive_features, \n",
    "              evaluators=['classification','fairness'])\n",
    "values"
   ]
  },
  {
   "cell_type": "code",
   "execution_count": 6,
   "metadata": {},
   "outputs": [],
   "source": [
    "values_all = values['complete']\n",
    "# values_subset_all = values['subsets']\n",
    "\n",
    "# ga = graphs_accuracy(values_all=values_all,values_subset_all=values_subset_all)\n",
    "\n",
    "\n"
   ]
  },
  {
   "cell_type": "code",
   "execution_count": 7,
   "metadata": {},
   "outputs": [
    {
     "data": {
      "text/plain": [
       "{'complete': {'performance': {'accuracy': 0.7971428571428572,\n",
       "   'precision': 0.5270081164287713,\n",
       "   'recall': 0.8105897546276367,\n",
       "   'f1': 0.6387381275440978,\n",
       "   'confusion_matrix': [[0.7933227344992051, 0.2066772655007949],\n",
       "    [0.1894102453723633, 0.8105897546276367]]},\n",
       "  'fairness': {'balanced_accuracy': 0.801956244563421,\n",
       "   'balanced_acc_error': 0.00909578148026159,\n",
       "   'selection_rate': 0.3402857142857143,\n",
       "   'false_positive_rate': 0.2066772655007949,\n",
       "   'false_positive_error': 0.0087766822602419,\n",
       "   'false_negative_rate': 0.1894102453723633,\n",
       "   'false_negative_error': 0.015934328082772554,\n",
       "   'true_positive_rate': 0.8105897546276367,\n",
       "   'true_negative_rate': 0.7933227344992051,\n",
       "   'demographic_parity_difference': 0.058073351745144164,\n",
       "   'demographic_parity_ratio': 0.8401720362840163,\n",
       "   'equalized_odds_difference': 0.12304095990295033,\n",
       "   'equalized_odds_ratio': 0.5170472645574502}},\n",
       " 'subsets': {'female': {'performance': {'accuracy': 0.7492890995260664,\n",
       "    'precision': 0.4482608695652174,\n",
       "    'recall': 0.7642698295033358,\n",
       "    'f1': 0.5650863250205536,\n",
       "    'confusion_matrix': [[0.7452318811483638, 0.2547681188516362],\n",
       "     [0.2357301704966642, 0.7642698295033358]]},\n",
       "   'fairness': {'balanced_accuracy': 0.7547508553258497,\n",
       "    'balanced_acc_error': 0.01284020550193306,\n",
       "    'selection_rate': 0.36334913112164297,\n",
       "    'false_positive_rate': 0.2547681188516362,\n",
       "    'false_positive_error': 0.01210085490514792,\n",
       "    'false_negative_rate': 0.2357301704966642,\n",
       "    'false_negative_error': 0.022650669303401295,\n",
       "    'true_positive_rate': 0.7642698295033358,\n",
       "    'true_negative_rate': 0.7452318811483638,\n",
       "    'demographic_parity_difference': 0.0,\n",
       "    'demographic_parity_ratio': 1.0,\n",
       "    'equalized_odds_difference': 0.0,\n",
       "    'equalized_odds_ratio': 1.0}},\n",
       "  'male': {'performance': {'accuracy': 0.8697841726618705,\n",
       "    'precision': 0.6692851531814611,\n",
       "    'recall': 0.8747433264887063,\n",
       "    'f1': 0.7583444592790386,\n",
       "    'confusion_matrix': [[0.8682728410513142, 0.13172715894868586],\n",
       "     [0.12525667351129363, 0.8747433264887063]]},\n",
       "   'fairness': {'balanced_accuracy': 0.8715080837700102,\n",
       "    'balanced_acc_error': 0.011933454584385012,\n",
       "    'selection_rate': 0.3052757793764988,\n",
       "    'false_positive_rate': 0.13172715894868586,\n",
       "    'false_positive_error': 0.011725151341348909,\n",
       "    'false_negative_rate': 0.12525667351129363,\n",
       "    'false_negative_error': 0.020788222129195715,\n",
       "    'true_positive_rate': 0.8747433264887063,\n",
       "    'true_negative_rate': 0.8682728410513142,\n",
       "    'demographic_parity_difference': 0.0,\n",
       "    'demographic_parity_ratio': 1.0,\n",
       "    'equalized_odds_difference': 0.0,\n",
       "    'equalized_odds_ratio': 1.0}}}}"
      ]
     },
     "execution_count": 7,
     "metadata": {},
     "output_type": "execute_result"
    }
   ],
   "source": [
    "values"
   ]
  },
  {
   "cell_type": "code",
   "execution_count": 8,
   "metadata": {},
   "outputs": [
    {
     "data": {
      "text/plain": [
       "{'performance': {'accuracy': 0.7492890995260664,\n",
       "  'precision': 0.4482608695652174,\n",
       "  'recall': 0.7642698295033358,\n",
       "  'f1': 0.5650863250205536,\n",
       "  'confusion_matrix': [[0.7452318811483638, 0.2547681188516362],\n",
       "   [0.2357301704966642, 0.7642698295033358]]},\n",
       " 'fairness': {'balanced_accuracy': 0.7547508553258497,\n",
       "  'balanced_acc_error': 0.01284020550193306,\n",
       "  'selection_rate': 0.36334913112164297,\n",
       "  'false_positive_rate': 0.2547681188516362,\n",
       "  'false_positive_error': 0.01210085490514792,\n",
       "  'false_negative_rate': 0.2357301704966642,\n",
       "  'false_negative_error': 0.022650669303401295,\n",
       "  'true_positive_rate': 0.7642698295033358,\n",
       "  'true_negative_rate': 0.7452318811483638,\n",
       "  'demographic_parity_difference': 0.0,\n",
       "  'demographic_parity_ratio': 1.0,\n",
       "  'equalized_odds_difference': 0.0,\n",
       "  'equalized_odds_ratio': 1.0}}"
      ]
     },
     "execution_count": 8,
     "metadata": {},
     "output_type": "execute_result"
    }
   ],
   "source": [
    "values['subsets']['female']"
   ]
  },
  {
   "cell_type": "code",
   "execution_count": 9,
   "metadata": {},
   "outputs": [],
   "source": [
    "import json\n",
    "# values_json = json.dumps(values, indent = 4)\n",
    "values_json = json.dumps(values)\n",
    "\n",
    "\n",
    "with open(\"values.json\", \"w\") as out_file:\n",
    "    json.dump(values_json, out_file)\n"
   ]
  },
  {
   "cell_type": "code",
   "execution_count": 10,
   "metadata": {},
   "outputs": [
    {
     "name": "stdout",
     "output_type": "stream",
     "text": [
      "<class 'dict'>\n"
     ]
    },
    {
     "data": {
      "text/plain": [
       "{'complete': {'performance': {'accuracy': 0.7971428571428572,\n",
       "   'precision': 0.5270081164287713,\n",
       "   'recall': 0.8105897546276367,\n",
       "   'f1': 0.6387381275440978,\n",
       "   'confusion_matrix': [[0.7933227344992051, 0.2066772655007949],\n",
       "    [0.1894102453723633, 0.8105897546276367]]},\n",
       "  'fairness': {'balanced_accuracy': 0.801956244563421,\n",
       "   'balanced_acc_error': 0.00909578148026159,\n",
       "   'selection_rate': 0.3402857142857143,\n",
       "   'false_positive_rate': 0.2066772655007949,\n",
       "   'false_positive_error': 0.0087766822602419,\n",
       "   'false_negative_rate': 0.1894102453723633,\n",
       "   'false_negative_error': 0.015934328082772554,\n",
       "   'true_positive_rate': 0.8105897546276367,\n",
       "   'true_negative_rate': 0.7933227344992051,\n",
       "   'demographic_parity_difference': 0.058073351745144164,\n",
       "   'demographic_parity_ratio': 0.8401720362840163,\n",
       "   'equalized_odds_difference': 0.12304095990295033,\n",
       "   'equalized_odds_ratio': 0.5170472645574502}},\n",
       " 'subsets': {'female': {'performance': {'accuracy': 0.7492890995260664,\n",
       "    'precision': 0.4482608695652174,\n",
       "    'recall': 0.7642698295033358,\n",
       "    'f1': 0.5650863250205536,\n",
       "    'confusion_matrix': [[0.7452318811483638, 0.2547681188516362],\n",
       "     [0.2357301704966642, 0.7642698295033358]]},\n",
       "   'fairness': {'balanced_accuracy': 0.7547508553258497,\n",
       "    'balanced_acc_error': 0.01284020550193306,\n",
       "    'selection_rate': 0.36334913112164297,\n",
       "    'false_positive_rate': 0.2547681188516362,\n",
       "    'false_positive_error': 0.01210085490514792,\n",
       "    'false_negative_rate': 0.2357301704966642,\n",
       "    'false_negative_error': 0.022650669303401295,\n",
       "    'true_positive_rate': 0.7642698295033358,\n",
       "    'true_negative_rate': 0.7452318811483638,\n",
       "    'demographic_parity_difference': 0.0,\n",
       "    'demographic_parity_ratio': 1.0,\n",
       "    'equalized_odds_difference': 0.0,\n",
       "    'equalized_odds_ratio': 1.0}},\n",
       "  'male': {'performance': {'accuracy': 0.8697841726618705,\n",
       "    'precision': 0.6692851531814611,\n",
       "    'recall': 0.8747433264887063,\n",
       "    'f1': 0.7583444592790386,\n",
       "    'confusion_matrix': [[0.8682728410513142, 0.13172715894868586],\n",
       "     [0.12525667351129363, 0.8747433264887063]]},\n",
       "   'fairness': {'balanced_accuracy': 0.8715080837700102,\n",
       "    'balanced_acc_error': 0.011933454584385012,\n",
       "    'selection_rate': 0.3052757793764988,\n",
       "    'false_positive_rate': 0.13172715894868586,\n",
       "    'false_positive_error': 0.011725151341348909,\n",
       "    'false_negative_rate': 0.12525667351129363,\n",
       "    'false_negative_error': 0.020788222129195715,\n",
       "    'true_positive_rate': 0.8747433264887063,\n",
       "    'true_negative_rate': 0.8682728410513142,\n",
       "    'demographic_parity_difference': 0.0,\n",
       "    'demographic_parity_ratio': 1.0,\n",
       "    'equalized_odds_difference': 0.0,\n",
       "    'equalized_odds_ratio': 1.0}}}}"
      ]
     },
     "execution_count": 10,
     "metadata": {},
     "output_type": "execute_result"
    }
   ],
   "source": [
    "with open(\"values.json\") as temp:\n",
    "    v = json.load(temp)\n",
    "    v = json.loads(v)\n",
    "\n",
    "print(type(v))\n",
    "v"
   ]
  },
  {
   "cell_type": "code",
   "execution_count": 11,
   "metadata": {},
   "outputs": [
    {
     "data": {
      "text/plain": [
       "'{\"complete\": {\"performance\": {\"accuracy\": 0.7971428571428572, \"precision\": 0.5270081164287713, \"recall\": 0.8105897546276367, \"f1\": 0.6387381275440978, \"confusion_matrix\": [[0.7933227344992051, 0.2066772655007949], [0.1894102453723633, 0.8105897546276367]]}, \"fairness\": {\"balanced_accuracy\": 0.801956244563421, \"balanced_acc_error\": 0.00909578148026159, \"selection_rate\": 0.3402857142857143, \"false_positive_rate\": 0.2066772655007949, \"false_positive_error\": 0.0087766822602419, \"false_negative_rate\": 0.1894102453723633, \"false_negative_error\": 0.015934328082772554, \"true_positive_rate\": 0.8105897546276367, \"true_negative_rate\": 0.7933227344992051, \"demographic_parity_difference\": 0.058073351745144164, \"demographic_parity_ratio\": 0.8401720362840163, \"equalized_odds_difference\": 0.12304095990295033, \"equalized_odds_ratio\": 0.5170472645574502}}, \"subsets\": {\"female\": {\"performance\": {\"accuracy\": 0.7492890995260664, \"precision\": 0.4482608695652174, \"recall\": 0.7642698295033358, \"f1\": 0.5650863250205536, \"confusion_matrix\": [[0.7452318811483638, 0.2547681188516362], [0.2357301704966642, 0.7642698295033358]]}, \"fairness\": {\"balanced_accuracy\": 0.7547508553258497, \"balanced_acc_error\": 0.01284020550193306, \"selection_rate\": 0.36334913112164297, \"false_positive_rate\": 0.2547681188516362, \"false_positive_error\": 0.01210085490514792, \"false_negative_rate\": 0.2357301704966642, \"false_negative_error\": 0.022650669303401295, \"true_positive_rate\": 0.7642698295033358, \"true_negative_rate\": 0.7452318811483638, \"demographic_parity_difference\": 0.0, \"demographic_parity_ratio\": 1.0, \"equalized_odds_difference\": 0.0, \"equalized_odds_ratio\": 1.0}}, \"male\": {\"performance\": {\"accuracy\": 0.8697841726618705, \"precision\": 0.6692851531814611, \"recall\": 0.8747433264887063, \"f1\": 0.7583444592790386, \"confusion_matrix\": [[0.8682728410513142, 0.13172715894868586], [0.12525667351129363, 0.8747433264887063]]}, \"fairness\": {\"balanced_accuracy\": 0.8715080837700102, \"balanced_acc_error\": 0.011933454584385012, \"selection_rate\": 0.3052757793764988, \"false_positive_rate\": 0.13172715894868586, \"false_positive_error\": 0.011725151341348909, \"false_negative_rate\": 0.12525667351129363, \"false_negative_error\": 0.020788222129195715, \"true_positive_rate\": 0.8747433264887063, \"true_negative_rate\": 0.8682728410513142, \"demographic_parity_difference\": 0.0, \"demographic_parity_ratio\": 1.0, \"equalized_odds_difference\": 0.0, \"equalized_odds_ratio\": 1.0}}}}'"
      ]
     },
     "execution_count": 11,
     "metadata": {},
     "output_type": "execute_result"
    }
   ],
   "source": [
    "values_json"
   ]
  },
  {
   "cell_type": "code",
   "execution_count": 12,
   "metadata": {},
   "outputs": [
    {
     "name": "stdout",
     "output_type": "stream",
     "text": [
      "accuracy 0.7971428571428572\n",
      "precision 0.5270081164287713\n"
     ]
    }
   ],
   "source": [
    "from fpdf import FPDF\n",
    "def convert_json_to_pdf(json_data, pdf_file):\n",
    "    pdf = FPDF()\n",
    "    pdf.add_page()\n",
    "    # Main title\n",
    "    pdf.set_font(\"Arial\", \"B\", 16)\n",
    "    pdf.cell(0, 10, \"JSON to PDF Conversion\", ln=True, align=\"C\")\n",
    "    # Subtitle for 'complete' section\n",
    "    pdf.set_font(\"Arial\", \"B\", 12)\n",
    "    pdf.cell(0, 10, \"Complete Data\", ln=True, align=\"L\")\n",
    "    pdf.cell(0, 10, \"\", ln=True, align=\"L\")  # Empty line\n",
    "    # Add key-value pairs for 'complete' section\n",
    "\n",
    "    pdf.set_font(\"Arial\", \"\", 10)\n",
    "    for key, value in json_data['complete'].items():\n",
    "        print(key, value)\n",
    "        pdf.cell(0, 10, f\"{key}: {value}\", ln=True, align=\"L\")\n",
    "\n",
    "    # Subtitle for 'subsets' section\n",
    "    pdf.set_font(\"Arial\", \"B\", 12)\n",
    "    pdf.cell(0, 10, \"Subsets Data\", ln=True, align=\"L\")\n",
    "    pdf.cell(0, 10, \"\", ln=True, align=\"L\")  # Empty line\n",
    "    # Iterate over 'subsets' data\n",
    "    for subset_key, subset_value in json_data['subsets'].items():\n",
    "        # Add subtitle for subset\n",
    "        pdf.set_font(\"Arial\", \"B\", 10)\n",
    "        pdf.cell(0, 10, subset_key.capitalize(), ln=True, align=\"L\")\n",
    "        pdf.cell(0, 10, \"\", ln=True, align=\"L\")  # Empty line\n",
    "        # Add key-value pairs for subset section\n",
    "        pdf.set_font(\"Arial\", \"\", 10)\n",
    "        for key, value in subset_value.items():\n",
    "            pdf.cell(0, 10, f\"{key}: {value}\", ln=True, align=\"L\")\n",
    "        pdf.cell(0, 10, \"\", ln=True, align=\"L\")  # Empty line\n",
    "    # Save PDF file\n",
    "    pdf.output(pdf_file)\n",
    "# Example usage\n",
    "json_data = {\n",
    "    'complete': {\n",
    "        'accuracy': 0.7971428571428572,\n",
    "        'precision': 0.5270081164287713,\n",
    "        # rest of the data...\n",
    "    },\n",
    "    'subsets': {\n",
    "        'female': {\n",
    "            'accuracy': 0.7492890995260664,\n",
    "            # rest of the data...\n",
    "        },\n",
    "        'male': {\n",
    "            'accuracy': 0.8697841726618705,\n",
    "            # rest of the data...\n",
    "        }\n",
    "    }\n",
    "}\n",
    "convert_json_to_pdf(json_data, \"output_test.pdf\")"
   ]
  },
  {
   "cell_type": "code",
   "execution_count": 13,
   "metadata": {},
   "outputs": [],
   "source": [
    "import json\n",
    "from fpdf import FPDF\n",
    "\n",
    "with open(\"values.json\") as temp:\n",
    "    v = json.load(temp)\n",
    "    v = json.loads(v)\n",
    "\n",
    "\n",
    "\n",
    "def convert_json_to_pdf(json_data, pdf_file):\n",
    "    pdf = FPDF()\n",
    "    pdf.add_page()\n",
    "    # Main title\n",
    "    pdf.set_font(\"Arial\", \"B\", 16)\n",
    "    pdf.cell(0, 10, \"pureml-evaluate report\", ln=True, align=\"C\")\n",
    "\n",
    "    # Subtitle for 'complete' section\n",
    "    pdf.set_font(\"Arial\", \"B\", 14)\n",
    "    pdf.cell(0, 10, \"Complete Data\", ln=True, align=\"L\")\n",
    "    pdf.cell(0, 10, \"\", ln=True, align=\"L\")  # Empty line\n",
    "    # Add key-value pairs for 'complete' section\n",
    "\n",
    "\n",
    "    for metric_group_key, metric_group_value in json_data['complete'].items():\n",
    "        # print(key, value)\n",
    "\n",
    "        pdf.set_font(\"Arial\", \"B\", 12)\n",
    "        pdf.cell(0, 10, str(metric_group_key.capitalize()), ln=True, align=\"L\")\n",
    "        # pdf.cell(0, 10, \"\", ln=True, align=\"L\")  # Empty line\n",
    "\n",
    "        for metric_key, metric_value in metric_group_value.items():\n",
    "            pdf.set_font(\"Arial\", \"\", 10)\n",
    "            metric_key = metric_key.replace(\"_\", \" \")\n",
    "            metric_key = metric_key.capitalize()\n",
    "            pdf.cell(0, 10, f\"{metric_key.capitalize()}: {metric_value}\", ln=True, align=\"L\")\n",
    "\n",
    "        \n",
    "    # pdf.page_break_trigger\n",
    "    pdf.add_page()\n",
    "    # pdf.cell(0, 10, \"\", ln=True, align=\"L\")  # Empty line\n",
    "\n",
    "    # Subtitle for 'subsets' section\n",
    "    pdf.set_font(\"Arial\", \"B\", 14)\n",
    "    pdf.cell(0, 10, \"Subsets\", ln=True, align=\"L\")\n",
    "    pdf.cell(0, 10, \"\", ln=True, align=\"L\")  # Empty line\n",
    "    # Iterate over 'subsets' data\n",
    "    for subset_key, subset_value in json_data['subsets'].items():\n",
    "        # Add subtitle for subset\n",
    "        pdf.set_font(\"Arial\", \"B\", 12)\n",
    "        pdf.cell(0, 10, f\"Subset:  {subset_key.capitalize()}\", ln=True, align=\"L\")\n",
    "        pdf.cell(0, 10, \"\", ln=True, align=\"L\")  # Empty line\n",
    "        \n",
    "\n",
    "        for metric_group_key, metric_group_value in subset_value.items():         \n",
    "            # Add key-value pairs for subset section\n",
    "        \n",
    "            pdf.set_font(\"Arial\", \"B\", 12)\n",
    "            pdf.cell(0, 10, str(metric_group_key.capitalize()), ln=True, align=\"L\")\n",
    "\n",
    "            for metric_key, metric_value in metric_group_value.items():\n",
    "                pdf.set_font(\"Arial\", \"\", 10)\n",
    "                metric_key = metric_key.replace(\"_\", \" \")\n",
    "                metric_key = metric_key.capitalize()\n",
    "                pdf.cell(0, 10, f\"{metric_key}: {metric_value}\", ln=True, align=\"L\")\n",
    "            pdf.cell(0, 10, \"\", ln=True, align=\"L\")  # Empty line\n",
    "        \n",
    "        pdf.image('accuracy.png')\n",
    "        pdf.add_page()\n",
    "\n",
    "    # Save PDF file\n",
    "    pdf.output(pdf_file)\n",
    "\n",
    "\n",
    "convert_json_to_pdf(v, \"output.pdf\")"
   ]
  },
  {
   "cell_type": "code",
   "execution_count": 14,
   "metadata": {},
   "outputs": [
    {
     "data": {
      "text/plain": [
       "{'complete': {'performance': {'accuracy': 0.7971428571428572,\n",
       "   'precision': 0.5270081164287713,\n",
       "   'recall': 0.8105897546276367,\n",
       "   'f1': 0.6387381275440978,\n",
       "   'confusion_matrix': [[0.7933227344992051, 0.2066772655007949],\n",
       "    [0.1894102453723633, 0.8105897546276367]]},\n",
       "  'fairness': {'balanced_accuracy': 0.801956244563421,\n",
       "   'balanced_acc_error': 0.00909578148026159,\n",
       "   'selection_rate': 0.3402857142857143,\n",
       "   'false_positive_rate': 0.2066772655007949,\n",
       "   'false_positive_error': 0.0087766822602419,\n",
       "   'false_negative_rate': 0.1894102453723633,\n",
       "   'false_negative_error': 0.015934328082772554,\n",
       "   'true_positive_rate': 0.8105897546276367,\n",
       "   'true_negative_rate': 0.7933227344992051,\n",
       "   'demographic_parity_difference': 0.058073351745144164,\n",
       "   'demographic_parity_ratio': 0.8401720362840163,\n",
       "   'equalized_odds_difference': 0.12304095990295033,\n",
       "   'equalized_odds_ratio': 0.5170472645574502}},\n",
       " 'subsets': {'female': {'performance': {'accuracy': 0.7492890995260664,\n",
       "    'precision': 0.4482608695652174,\n",
       "    'recall': 0.7642698295033358,\n",
       "    'f1': 0.5650863250205536,\n",
       "    'confusion_matrix': [[0.7452318811483638, 0.2547681188516362],\n",
       "     [0.2357301704966642, 0.7642698295033358]]},\n",
       "   'fairness': {'balanced_accuracy': 0.7547508553258497,\n",
       "    'balanced_acc_error': 0.01284020550193306,\n",
       "    'selection_rate': 0.36334913112164297,\n",
       "    'false_positive_rate': 0.2547681188516362,\n",
       "    'false_positive_error': 0.01210085490514792,\n",
       "    'false_negative_rate': 0.2357301704966642,\n",
       "    'false_negative_error': 0.022650669303401295,\n",
       "    'true_positive_rate': 0.7642698295033358,\n",
       "    'true_negative_rate': 0.7452318811483638,\n",
       "    'demographic_parity_difference': 0.0,\n",
       "    'demographic_parity_ratio': 1.0,\n",
       "    'equalized_odds_difference': 0.0,\n",
       "    'equalized_odds_ratio': 1.0}},\n",
       "  'male': {'performance': {'accuracy': 0.8697841726618705,\n",
       "    'precision': 0.6692851531814611,\n",
       "    'recall': 0.8747433264887063,\n",
       "    'f1': 0.7583444592790386,\n",
       "    'confusion_matrix': [[0.8682728410513142, 0.13172715894868586],\n",
       "     [0.12525667351129363, 0.8747433264887063]]},\n",
       "   'fairness': {'balanced_accuracy': 0.8715080837700102,\n",
       "    'balanced_acc_error': 0.011933454584385012,\n",
       "    'selection_rate': 0.3052757793764988,\n",
       "    'false_positive_rate': 0.13172715894868586,\n",
       "    'false_positive_error': 0.011725151341348909,\n",
       "    'false_negative_rate': 0.12525667351129363,\n",
       "    'false_negative_error': 0.020788222129195715,\n",
       "    'true_positive_rate': 0.8747433264887063,\n",
       "    'true_negative_rate': 0.8682728410513142,\n",
       "    'demographic_parity_difference': 0.0,\n",
       "    'demographic_parity_ratio': 1.0,\n",
       "    'equalized_odds_difference': 0.0,\n",
       "    'equalized_odds_ratio': 1.0}}}}"
      ]
     },
     "execution_count": 14,
     "metadata": {},
     "output_type": "execute_result"
    }
   ],
   "source": [
    "v"
   ]
  },
  {
   "cell_type": "code",
   "execution_count": 15,
   "metadata": {},
   "outputs": [],
   "source": [
    "from accuracy_graphs import Generating_Accuracy_Graph"
   ]
  },
  {
   "cell_type": "code",
   "execution_count": 16,
   "metadata": {},
   "outputs": [],
   "source": [
    "generate_accuracy_graph = Generating_Accuracy_Graph()"
   ]
  },
  {
   "cell_type": "code",
   "execution_count": 17,
   "metadata": {},
   "outputs": [
    {
     "data": {
      "image/png": "[encoded data removed]",
      "text/plain": [
       "<Figure size 640x480 with 1 Axes>"
      ]
     },
     "metadata": {},
     "output_type": "display_data"
    },
    {
     "data": {
      "text/plain": [
       "<module 'matplotlib.pyplot' from '/usr/local/lib/python3.10/dist-packages/matplotlib/pyplot.py'>"
      ]
     },
     "execution_count": 17,
     "metadata": {},
     "output_type": "execute_result"
    }
   ],
   "source": [
    "generate_accuracy_graph.generate_accuracy_graph(values_all=values['complete'],values_subset_all=values['subsets'])"
   ]
  },
  {
   "cell_type": "code",
   "execution_count": 18,
   "metadata": {},
   "outputs": [
    {
     "data": {
      "image/png": "[encoded data removed]",
      "text/plain": [
       "<Figure size 640x480 with 1 Axes>"
      ]
     },
     "metadata": {},
     "output_type": "display_data"
    },
    {
     "data": {
      "text/plain": [
       "<module 'matplotlib.pyplot' from '/usr/local/lib/python3.10/dist-packages/matplotlib/pyplot.py'>"
      ]
     },
     "execution_count": 18,
     "metadata": {},
     "output_type": "execute_result"
    }
   ],
   "source": [
    "generate_accuracy_graph.generate_accuracy_graph(values_all=values['complete'],values_subset_all=None)"
   ]
  },
  {
   "cell_type": "code",
   "execution_count": 19,
   "metadata": {},
   "outputs": [],
   "source": [
    "from pureml_evaluate.evaluators.graphs_generator import GeneratingGraphs"
   ]
  },
  {
   "cell_type": "code",
   "execution_count": 20,
   "metadata": {},
   "outputs": [],
   "source": [
    "accuracy_graph = GeneratingGraphs()"
   ]
  },
  {
   "cell_type": "code",
   "execution_count": 21,
   "metadata": {},
   "outputs": [
    {
     "data": {
      "image/png": "[encoded data removed]",
      "text/plain": [
       "<Figure size 640x480 with 1 Axes>"
      ]
     },
     "metadata": {},
     "output_type": "display_data"
    },
    {
     "data": {
      "text/plain": [
       "<module 'matplotlib.pyplot' from '/usr/local/lib/python3.10/dist-packages/matplotlib/pyplot.py'>"
      ]
     },
     "execution_count": 21,
     "metadata": {},
     "output_type": "execute_result"
    }
   ],
   "source": [
    "accuracy_graph.generating_accuracy_graph(values_all=values['complete'],values_subset_all=values['subsets'])"
   ]
  },
  {
   "cell_type": "code",
   "execution_count": null,
   "metadata": {},
   "outputs": [],
   "source": []
  }
 ],
 "metadata": {
  "kernelspec": {
   "display_name": ".venv",
   "language": "python",
   "name": "python3"
  },
  "language_info": {
   "codemirror_mode": {
    "name": "ipython",
    "version": 3
   },
   "file_extension": ".py",
   "mimetype": "text/x-python",
   "name": "python",
   "nbconvert_exporter": "python",
   "pygments_lexer": "ipython3",
   "version": "3.10.6"
  },
  "orig_nbformat": 4
 },
 "nbformat": 4,
 "nbformat_minor": 2
}
